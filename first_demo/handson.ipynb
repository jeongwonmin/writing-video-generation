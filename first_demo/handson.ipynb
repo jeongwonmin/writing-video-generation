{
 "cells": [
  {
   "cell_type": "code",
   "execution_count": 4,
   "id": "97ee760a",
   "metadata": {},
   "outputs": [
    {
     "name": "stdout",
     "output_type": "stream",
     "text": [
      "Defaulting to user installation because normal site-packages is not writeable\n",
      "Requirement already satisfied: numpy in c:\\users\\oooka\\appdata\\roaming\\python\\python314\\site-packages (2.3.4)\n"
     ]
    }
   ],
   "source": [
    "!pip install -U numpy"
   ]
  },
  {
   "cell_type": "code",
   "execution_count": 5,
   "id": "d5588dd8",
   "metadata": {},
   "outputs": [
    {
     "name": "stdout",
     "output_type": "stream",
     "text": [
      "Defaulting to user installation because normal site-packages is not writeable\n",
      "Collecting opencv-python\n",
      "  Using cached opencv_python-4.12.0.88-cp37-abi3-win_amd64.whl.metadata (19 kB)\n",
      "Collecting numpy<2.3.0,>=2 (from opencv-python)\n",
      "  Using cached numpy-2.2.6.tar.gz (20.3 MB)\n",
      "  Installing build dependencies: started\n",
      "  Installing build dependencies: finished with status 'done'\n",
      "  Getting requirements to build wheel: started\n",
      "  Getting requirements to build wheel: finished with status 'done'\n",
      "  Installing backend dependencies: started\n",
      "  Installing backend dependencies: finished with status 'done'\n",
      "  Preparing metadata (pyproject.toml): started\n",
      "  Preparing metadata (pyproject.toml): finished with status 'error'\n"
     ]
    },
    {
     "name": "stderr",
     "output_type": "stream",
     "text": [
      "  error: subprocess-exited-with-error\n",
      "  \n",
      "  × Preparing metadata (pyproject.toml) did not run successfully.\n",
      "  │ exit code: 1\n",
      "  ╰─> [12 lines of output]\n",
      "      + C:\\Python314\\python.exe C:\\Users\\oooka\\AppData\\Local\\Temp\\pip-install-ajjg0k3v\\numpy_8b219851d2e74bd5992458c62dc9f235\\vendored-meson\\meson\\meson.py setup C:\\Users\\oooka\\AppData\\Local\\Temp\\pip-install-ajjg0k3v\\numpy_8b219851d2e74bd5992458c62dc9f235 C:\\Users\\oooka\\AppData\\Local\\Temp\\pip-install-ajjg0k3v\\numpy_8b219851d2e74bd5992458c62dc9f235\\.mesonpy-vqd30uaa -Dbuildtype=release -Db_ndebug=if-release -Db_vscrt=md --native-file=C:\\Users\\oooka\\AppData\\Local\\Temp\\pip-install-ajjg0k3v\\numpy_8b219851d2e74bd5992458c62dc9f235\\.mesonpy-vqd30uaa\\meson-python-native-file.ini\n",
      "      The Meson build system\n",
      "      Version: 1.5.2\n",
      "      Source dir: C:\\Users\\oooka\\AppData\\Local\\Temp\\pip-install-ajjg0k3v\\numpy_8b219851d2e74bd5992458c62dc9f235\n",
      "      Build dir: C:\\Users\\oooka\\AppData\\Local\\Temp\\pip-install-ajjg0k3v\\numpy_8b219851d2e74bd5992458c62dc9f235\\.mesonpy-vqd30uaa\n",
      "      Build type: native build\n",
      "      Project name: NumPy\n",
      "      Project version: 2.2.6\n",
      "      \n",
      "      ..\\meson.build:1:0: ERROR: None of values ['c11'] are supported by the C compiler. Possible values for option \"C_std\" are ['none', 'c89', 'c99']\n",
      "      \n",
      "      A full log can be found at C:\\Users\\oooka\\AppData\\Local\\Temp\\pip-install-ajjg0k3v\\numpy_8b219851d2e74bd5992458c62dc9f235\\.mesonpy-vqd30uaa\\meson-logs\\meson-log.txt\n",
      "      [end of output]\n",
      "  \n",
      "  note: This error originates from a subprocess, and is likely not a problem with pip.\n",
      "error: metadata-generation-failed\n",
      "\n",
      "× Encountered error while generating package metadata.\n",
      "╰─> See above for output.\n",
      "\n",
      "note: This is an issue with the package mentioned above, not pip.\n",
      "hint: See above for details.\n"
     ]
    }
   ],
   "source": [
    "!pip install opencv-python"
   ]
  }
 ],
 "metadata": {
  "kernelspec": {
   "display_name": "Python 3",
   "language": "python",
   "name": "python3"
  },
  "language_info": {
   "codemirror_mode": {
    "name": "ipython",
    "version": 3
   },
   "file_extension": ".py",
   "mimetype": "text/x-python",
   "name": "python",
   "nbconvert_exporter": "python",
   "pygments_lexer": "ipython3",
   "version": "3.12.7"
  }
 },
 "nbformat": 4,
 "nbformat_minor": 5
}
